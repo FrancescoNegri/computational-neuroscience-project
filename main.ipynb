{
 "cells": [
  {
   "cell_type": "code",
   "execution_count": null,
   "metadata": {},
   "outputs": [],
   "source": [
    "%load_ext autoreload\n",
    "%autoreload 2\n",
    "\n",
    "import matplotlib.pyplot as plt\n",
    "import numpy as np\n",
    "from src.LIF import LIF"
   ]
  },
  {
   "cell_type": "code",
   "execution_count": null,
   "metadata": {},
   "outputs": [],
   "source": [
    "# Stimulus generation\n",
    "simulation_time = 0.5\n",
    "t_on = 0.15\n",
    "t_off = 0.35\n",
    "dt = 1e-4\n",
    "t = np.arange(0, simulation_time, dt)\n",
    "I_amplitudes = np.arange(190, 250, 5) * 1e-12\n",
    "\n",
    "if not hasattr(I_amplitudes, '__iter__'):\n",
    "    I_amplitudes = np.array([I_amplitudes])\n",
    "\n",
    "I_stim = np.zeros([np.size(I_amplitudes), np.size(t)])\n",
    "for trial_idx, I_amplitude in enumerate(I_amplitudes):\n",
    "    I_stim[trial_idx][round(t_on / dt):round(t_off / dt)] = I_amplitude\n",
    "    plt.plot(t, I_stim[trial_idx])\n",
    "\n",
    "# Model initialization and execution\n",
    "my_LIF = LIF()\n",
    "V_m = my_LIF.run(I_stim, dt)\n",
    "\n",
    "# Results plotting\n",
    "plt.figure()\n",
    "for trial_idx, _ in enumerate(I_amplitudes):\n",
    "    plt.plot(t, V_m[trial_idx])"
   ]
  },
  {
   "cell_type": "code",
   "execution_count": null,
   "metadata": {},
   "outputs": [],
   "source": [
    "count_spikes = my_LIF.count_spikes()\n",
    "firing_rates = count_spikes / (t_off - t_on)\n",
    "\n",
    "plt.figure()\n",
    "plt.plot(I_amplitudes, firing_rates, marker='x', linestyle=':')\n",
    "plt.xlabel('$I_{app}\\;(A)$')\n",
    "plt.ylabel('$\\\\nu\\;(Hz)$')\n",
    "plt.title('Gain Function')"
   ]
  }
 ],
 "metadata": {
  "kernelspec": {
   "display_name": "compneuro",
   "language": "python",
   "name": "python3"
  },
  "language_info": {
   "codemirror_mode": {
    "name": "ipython",
    "version": 3
   },
   "file_extension": ".py",
   "mimetype": "text/x-python",
   "name": "python",
   "nbconvert_exporter": "python",
   "pygments_lexer": "ipython3",
   "version": "3.10.9"
  },
  "orig_nbformat": 4,
  "vscode": {
   "interpreter": {
    "hash": "cfc0e64754b72761bf83bd5bf5017cb0aeb45d0b2ef6f7fae00c35ed2b7ef13c"
   }
  }
 },
 "nbformat": 4,
 "nbformat_minor": 2
}
