{
 "cells": [
  {
   "attachments": {},
   "cell_type": "markdown",
   "metadata": {},
   "source": [
    "# Computational Neuroscience Project - Group 04"
   ]
  },
  {
   "attachments": {},
   "cell_type": "markdown",
   "metadata": {},
   "source": [
    "## Initialization"
   ]
  },
  {
   "cell_type": "code",
   "execution_count": null,
   "metadata": {},
   "outputs": [],
   "source": [
    "%load_ext autoreload\n",
    "%autoreload 2\n",
    "\n",
    "import numpy as np\n",
    "from src.LIF import LIF\n",
    "from src.IFB import IFB\n",
    "from src.utils import generate_stimulus, plot_gain_function, plot_trials"
   ]
  },
  {
   "cell_type": "code",
   "execution_count": null,
   "metadata": {},
   "outputs": [],
   "source": [
    "dt = 1e-4"
   ]
  },
  {
   "attachments": {},
   "cell_type": "markdown",
   "metadata": {},
   "source": [
    "## Full Analysis (without noise)"
   ]
  },
  {
   "attachments": {},
   "cell_type": "markdown",
   "metadata": {},
   "source": [
    "### LIF Model"
   ]
  },
  {
   "cell_type": "code",
   "execution_count": null,
   "metadata": {},
   "outputs": [],
   "source": [
    "I_amplitudes = np.arange(190, 250, 5) * 1e-12\n",
    "I_stim, t = generate_stimulus(I_amplitudes, simulation_time=0.5, t_on=0.15, t_off=0.35, dt=dt)\n",
    "\n",
    "# Model initialization and execution\n",
    "my_LIF = LIF()\n",
    "my_LIF.run(I_stim, dt)\n",
    "\n",
    "# Results plotting\n",
    "plot_trials(t, my_LIF.V_m[0:8], I_stim[0:8], title='$V_{m}$ for different stimulation currents', subtitle='$LIF\\;model$')\n",
    "plot_gain_function(I_amplitudes, my_LIF.get_firing_rate(dt), subtitle='$LIF\\;model$', xticks=I_amplitudes * 1e12)"
   ]
  },
  {
   "cell_type": "code",
   "execution_count": null,
   "metadata": {},
   "outputs": [],
   "source": [
    "I_amplitudes = np.arange(195, 205, 0.5) * 1e-12\n",
    "I_stim, t = generate_stimulus(I_amplitudes, simulation_time=0.5, t_on=0.15, t_off=0.35, dt=dt)\n",
    "\n",
    "# Model initialization and execution\n",
    "my_LIF = LIF()\n",
    "my_LIF.run(I_stim, dt)\n",
    "\n",
    "# Results plotting\n",
    "plot_gain_function(I_amplitudes, my_LIF.get_firing_rate(dt), title='Gain Function (Zoom)', subtitle='$LIF\\;model$')\n",
    "\n",
    "I_th = I_amplitudes[np.max(np.where(my_LIF.get_firing_rate(dt) == 0))]\n",
    "print('The LIF neuron threshold current I_th = ' + str(I_th * 1e12) + ' pA')\n",
    "\n",
    "I_th_stim, t = generate_stimulus(I_th, simulation_time=0.5, t_on=0.15, t_off=0.35, dt=dt)\n",
    "V_th = np.max(my_LIF.run(I_th_stim, dt))\n",
    "print('The LIF neuron derived threshold voltage V_th = ' + str(V_th * 1e3) + ' mV')"
   ]
  },
  {
   "attachments": {},
   "cell_type": "markdown",
   "metadata": {},
   "source": [
    "### IFB Model"
   ]
  },
  {
   "cell_type": "code",
   "execution_count": null,
   "metadata": {},
   "outputs": [],
   "source": [
    "I_amplitudes = np.arange(240, 720, 40) * 1e-12\n",
    "I_stim, t = generate_stimulus(I_amplitudes, simulation_time=0.5, t_on=0.15, t_off=0.35, dt=dt)\n",
    "\n",
    "# Model initialization and execution\n",
    "V_0_tonic = -0.058\n",
    "V_0_bursting = -0.077\n",
    "my_IFB = IFB()\n",
    "my_IFB.run(I_stim, dt, V_0=V_0_tonic)\n",
    "\n",
    "# Results plotting\n",
    "plot_trials(t, my_IFB.V_m[0:8], I_stim[0:8], title='$V_{m}$ for different stimulation currents', subtitle='$IFB\\;model$')\n",
    "plot_gain_function(I_amplitudes, my_IFB.get_firing_rate(dt), subtitle='$IFB\\;model$', xticks=I_amplitudes * 1e12)"
   ]
  },
  {
   "cell_type": "code",
   "execution_count": null,
   "metadata": {},
   "outputs": [],
   "source": [
    "I_amplitudes = np.arange(310, 330, 2) * 1e-12\n",
    "I_stim, t = generate_stimulus(I_amplitudes, simulation_time=0.5, t_on=0.15, t_off=0.35, dt=dt)\n",
    "\n",
    "# Model initialization and execution\n",
    "V_0_tonic = -0.058\n",
    "V_0_bursting = -0.077\n",
    "my_IFB = IFB()\n",
    "my_IFB.run(I_stim, dt, V_0=V_0_tonic)\n",
    "\n",
    "# Results plotting\n",
    "plot_gain_function(I_amplitudes, my_IFB.get_firing_rate(dt), title='Gain Function (Zoom)', subtitle='$IFB\\;model$', xticks=I_amplitudes * 1e12)\n",
    "\n",
    "I_th = I_amplitudes[np.max(np.where(my_IFB.get_firing_rate(dt) == 0))]\n",
    "print('The IFB neuron threshold current is I_th = ' + str(I_th * 1e12) + ' pA')\n",
    "\n",
    "I_th_stim, t = generate_stimulus(I_th, simulation_time=0.5, t_on=0.15, t_off=0.35, dt=dt)\n",
    "V_th = np.max(my_IFB.run(I_th_stim, dt))\n",
    "print('The LIF neuron derived threshold voltage V_th = ' + str(V_th * 1e3) + ' mV')"
   ]
  },
  {
   "cell_type": "code",
   "execution_count": null,
   "metadata": {},
   "outputs": [],
   "source": [
    "I_amplitudes = np.arange(261, 265, 0.5) * 1e-12\n",
    "I_stim, t = generate_stimulus(I_amplitudes, simulation_time=3, t_on=0.15, t_off=2.85, dt=dt)\n",
    "\n",
    "# Model initialization and execution\n",
    "V_0_tonic = -0.058\n",
    "V_0_bursting = -0.077\n",
    "my_IFB = IFB()\n",
    "my_IFB.run(I_stim, dt, V_0=V_0_tonic)\n",
    "\n",
    "# Results plotting\n",
    "plot_trials(t, my_IFB.V_m, I_stim, title='$V_{m}$ for different stimulation currents', subtitle='$IFB\\;model$')\n",
    "plot_gain_function(I_amplitudes, my_IFB.get_firing_rate(dt), title='Gain Function (Zoom)', subtitle='$IFB\\;model$', xticks=I_amplitudes * 1e12)\n",
    "\n",
    "I_th = I_amplitudes[np.max(np.where(my_IFB.get_firing_rate(dt) == 0))]\n",
    "print('The IFB neuron threshold current is I_th = ' + str(I_th * 1e12) + ' pA')\n",
    "\n",
    "I_th_stim, t = generate_stimulus(I_th, simulation_time=3, t_on=0.15, t_off=2.95, dt=dt)\n",
    "V_th = np.max(my_IFB.run(I_th_stim, dt))\n",
    "print('The IFB neuron derived threshold voltage V_th = ' + str(V_th * 1e3) + ' mV')"
   ]
  },
  {
   "attachments": {},
   "cell_type": "markdown",
   "metadata": {},
   "source": [
    "## Full Analysis (with noisy stimulations)"
   ]
  },
  {
   "attachments": {},
   "cell_type": "markdown",
   "metadata": {},
   "source": [
    "### LIF Model"
   ]
  },
  {
   "cell_type": "code",
   "execution_count": null,
   "metadata": {},
   "outputs": [],
   "source": [
    "I_amplitudes = np.arange(190, 250, 5) * 1e-12\n",
    "I_stim, t = generate_stimulus(I_amplitudes, simulation_time=0.5, t_on=0.15, t_off=0.35, dt=dt, is_noisy=True)\n",
    "\n",
    "# Model initialization and execution\n",
    "my_LIF = LIF()\n",
    "my_LIF.run(I_stim, dt)\n",
    "\n",
    "# Results plotting\n",
    "plot_trials(t, my_LIF.V_m[0:8], I_stim[0:8], title='$V_{m}$ for different stimulation currents', subtitle='$LIF\\;model$ (noise)')\n",
    "plot_gain_function(I_amplitudes, my_LIF.get_firing_rate(dt), subtitle='$LIF\\;model$ (noise)', xticks=I_amplitudes * 1e12)"
   ]
  },
  {
   "cell_type": "code",
   "execution_count": null,
   "metadata": {},
   "outputs": [],
   "source": [
    "I_amplitudes = np.arange(195, 205, 0.5) * 1e-12\n",
    "I_stim, t = generate_stimulus(I_amplitudes, simulation_time=0.5, t_on=0.15, t_off=0.35, dt=dt, is_noisy=True)\n",
    "\n",
    "# Model initialization and execution\n",
    "my_LIF = LIF()\n",
    "my_LIF.run(I_stim, dt)\n",
    "\n",
    "# Results plotting\n",
    "plot_gain_function(I_amplitudes, my_LIF.get_firing_rate(dt), title='Gain Function (Zoom)', subtitle='$LIF\\;model$ (noise)')\n",
    "\n",
    "I_th = I_amplitudes[np.max(np.where(my_LIF.get_firing_rate(dt) == 0))]\n",
    "print('The LIF neuron threshold current I_th = ' + str(I_th * 1e12) + ' pA')\n",
    "\n",
    "I_th_stim, t = generate_stimulus(I_th, simulation_time=0.5, t_on=0.15, t_off=0.35, dt=dt)\n",
    "V_th = np.max(my_LIF.run(I_th_stim, dt))\n",
    "print('The LIF neuron derived threshold voltage V_th = ' + str(V_th * 1e3) + ' mV')"
   ]
  },
  {
   "cell_type": "markdown",
   "metadata": {},
   "source": [
    "### IFB Model"
   ]
  },
  {
   "cell_type": "code",
   "execution_count": null,
   "metadata": {},
   "outputs": [],
   "source": [
    "I_amplitudes = np.arange(240, 720, 40) * 1e-12\n",
    "I_stim, t = generate_stimulus(I_amplitudes, simulation_time=0.5, t_on=0.15, t_off=0.35, dt=dt, is_noisy=True)\n",
    "\n",
    "# Model initialization and execution\n",
    "V_0_tonic = -0.058\n",
    "V_0_bursting = -0.077\n",
    "my_IFB = IFB()\n",
    "my_IFB.run(I_stim, dt, V_0=V_0_tonic)\n",
    "\n",
    "# Results plotting\n",
    "plot_trials(t, my_IFB.V_m[0:8], I_stim[0:8], title='$V_{m}$ for different stimulation currents', subtitle='$IFB\\;model$ (noise)')\n",
    "plot_gain_function(I_amplitudes, my_IFB.get_firing_rate(dt), subtitle='$IFB\\;model$ (noise)', xticks=I_amplitudes * 1e12)"
   ]
  },
  {
   "cell_type": "code",
   "execution_count": null,
   "metadata": {},
   "outputs": [],
   "source": [
    "I_amplitudes = np.arange(310, 330, 2) * 1e-12\n",
    "I_stim, t = generate_stimulus(I_amplitudes, simulation_time=0.5, t_on=0.15, t_off=0.35, dt=dt, is_noisy=True)\n",
    "\n",
    "# Model initialization and execution\n",
    "V_0_tonic = -0.058\n",
    "V_0_bursting = -0.077\n",
    "my_IFB = IFB()\n",
    "my_IFB.run(I_stim, dt, V_0=V_0_tonic)\n",
    "\n",
    "# Results plotting\n",
    "plot_gain_function(I_amplitudes, my_IFB.get_firing_rate(dt), title='Gain Function (Zoom)', subtitle='$IFB\\;model$ (noise)', xticks=I_amplitudes * 1e12)\n",
    "\n",
    "I_th = I_amplitudes[np.max(np.where(my_IFB.get_firing_rate(dt) == 0))]\n",
    "print('The IFB neuron threshold current is I_th = ' + str(I_th * 1e12) + ' pA')\n",
    "\n",
    "I_th_stim, t = generate_stimulus(I_th, simulation_time=0.5, t_on=0.15, t_off=0.35, dt=dt)\n",
    "V_th = np.max(my_IFB.run(I_th_stim, dt))\n",
    "print('The IFB neuron derived threshold voltage V_th = ' + str(V_th * 1e3) + ' mV')"
   ]
  },
  {
   "cell_type": "code",
   "execution_count": null,
   "metadata": {},
   "outputs": [],
   "source": [
    "I_amplitudes = np.arange(261, 265, 0.5) * 1e-12\n",
    "I_stim, t = generate_stimulus(I_amplitudes, simulation_time=3, t_on=0.15, t_off=2.95, dt=dt, is_noisy=True)\n",
    "\n",
    "# Model initialization and execution\n",
    "V_0_tonic = -0.058\n",
    "V_0_bursting = -0.077\n",
    "my_IFB = IFB()\n",
    "my_IFB.run(I_stim, dt, V_0=V_0_tonic)\n",
    "\n",
    "# Results plotting\n",
    "plot_trials(t, my_IFB.V_m, I_stim, title='$V_{m}$ for different stimulation currents', subtitle='$IFB\\;model$ (noise)')\n",
    "plot_gain_function(I_amplitudes, my_IFB.get_firing_rate(dt), title='Gain Function (Zoom)', subtitle='$IFB\\;model$ (noise)', xticks=I_amplitudes * 1e12)\n",
    "\n",
    "I_th = I_amplitudes[np.max(np.where(my_IFB.get_firing_rate(dt) == 0))]\n",
    "print('The IFB neuron threshold current is I_th = ' + str(I_th * 1e12) + ' pA')\n",
    "\n",
    "I_th_stim, t = generate_stimulus(I_th, simulation_time=3, t_on=0.15, t_off=2.95, dt=dt)\n",
    "V_th = np.max(my_IFB.run(I_th_stim, dt))\n",
    "print('The IFB neuron derived threshold voltage V_th = ' + str(V_th * 1e3) + ' mV')"
   ]
  }
 ],
 "metadata": {
  "kernelspec": {
   "display_name": "compneuro",
   "language": "python",
   "name": "python3"
  },
  "language_info": {
   "codemirror_mode": {
    "name": "ipython",
    "version": 3
   },
   "file_extension": ".py",
   "mimetype": "text/x-python",
   "name": "python",
   "nbconvert_exporter": "python",
   "pygments_lexer": "ipython3",
   "version": "3.10.9"
  },
  "orig_nbformat": 4,
  "vscode": {
   "interpreter": {
    "hash": "cfc0e64754b72761bf83bd5bf5017cb0aeb45d0b2ef6f7fae00c35ed2b7ef13c"
   }
  }
 },
 "nbformat": 4,
 "nbformat_minor": 2
}
